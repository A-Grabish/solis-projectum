{
 "cells": [
  {
   "cell_type": "markdown",
   "metadata": {},
   "source": [
    "## Solis Projectum => Data Analysis"
   ]
  },
  {
   "cell_type": "code",
   "execution_count": null,
   "metadata": {},
   "outputs": [],
   "source": [
    "from scipy import stats\n",
    "from scipy.stats import linregress\n",
    "import matplotlib.pyplot as plt\n",
    "import pandas as pd\n",
    "import numpy as np\n",
    "import solis"
   ]
  },
  {
   "cell_type": "code",
   "execution_count": null,
   "metadata": {},
   "outputs": [],
   "source": [
    "# Data file locations\n",
    "clean_dir = \"data/clean\"\n",
    "plots_dir = \"plots\""
   ]
  },
  {
   "cell_type": "markdown",
   "metadata": {},
   "source": [
    "### Load the Clean data\n",
    "***"
   ]
  },
  {
   "cell_type": "code",
   "execution_count": null,
   "metadata": {},
   "outputs": [],
   "source": [
    "#### Sunspots\n",
    "csv_file_sunspots = {\"monthly\":\"sunspot_monthly.csv\",\"yearly\":\"sunspot_yearly.csv\"}\n",
    "\n",
    "sunspot_monthly = solis.load_csv(csv_file_sunspots[\"monthly\"])\n",
    "sunspot_monthly = sunspot_monthly.set_index(\"Year\")\n",
    "\n",
    "sunspot_yearly = solis.load_csv(csv_file_sunspots[\"yearly\"])\n",
    "sunspot_yearly = sunspot_yearly.set_index(\"Year\")"
   ]
  },
  {
   "cell_type": "code",
   "execution_count": null,
   "metadata": {},
   "outputs": [],
   "source": [
    "#### Temperature\n",
    "csv_file_temp = {\"avg\":\"temp_average.csv\",\"max\":\"temp_maximum.csv\",\"min\":\"temp_minimum.csv\"}\n",
    "\n",
    "temp_average = solis.load_csv(csv_file_temp[\"avg\"])\n",
    "temp_average = temp_average.set_index(\"Year\")\n",
    "\n",
    "temp_maximum = solis.load_csv(csv_file_temp[\"max\"])\n",
    "temp_maximum = temp_maximum.set_index(\"Year\")\n",
    "\n",
    "temp_minimum = solis.load_csv(csv_file_temp[\"min\"])\n",
    "temp_minimum = temp_minimum.set_index(\"Year\")"
   ]
  },
  {
   "cell_type": "code",
   "execution_count": null,
   "metadata": {},
   "outputs": [],
   "source": [
    "#### Cooling & Heating Days\n",
    "csv_file_heatcool = {\"summer\":\"summer_cooling_days.csv\",\"winter\":\"winter_heating_days.csv\"}\n",
    "\n",
    "summer_cooling_days = solis.load_csv(csv_file_heatcool[\"summer\"])\n",
    "winter_heating_days = solis.load_csv(csv_file_heatcool[\"winter\"])"
   ]
  },
  {
   "cell_type": "markdown",
   "metadata": {},
   "source": [
    "### Plots\n",
    "***"
   ]
  },
  {
   "cell_type": "markdown",
   "metadata": {},
   "source": [
    "# Space Weather"
   ]
  },
  {
   "cell_type": "code",
   "execution_count": null,
   "metadata": {},
   "outputs": [],
   "source": [
    "# Generate the Plot\n",
    "plt.figure(figsize = (20,10))\n",
    "plt.title(\"Sunspots Yearly Total Average\",fontdict = {'fontsize': 24, 'fontweight': 'bold'})\n",
    "plt.ylabel(\"Volume\", fontdict = {'fontsize': 14, 'fontweight': 'bold'})\n",
    "plt.xlabel(\"Year\", fontdict = {'fontsize': 14, 'fontweight': 'bold'})\n",
    "plt.xticks(np.arange(1895,2020,step=11))\n",
    "plt.grid(True)\n",
    "\n",
    "x_axis = sunspot_yearly.index\n",
    "sunspot_yearly_mean_total = sunspot_yearly[\"Yearly Mean Total Sunspots\"]\n",
    "\n",
    "plt.plot(x_axis, sunspot_yearly_mean_total, color='red')\n",
    "plt.show()"
   ]
  },
  {
   "cell_type": "markdown",
   "metadata": {},
   "source": [
    "# Terra Firma Weather"
   ]
  },
  {
   "cell_type": "code",
   "execution_count": null,
   "metadata": {},
   "outputs": [],
   "source": [
    "# Generate the Plot\n",
    "plt.figure(figsize = (20,6))\n",
    "plt.title(\"Average Yearly Temperature\",fontdict = {'fontsize': 24, 'fontweight': 'bold'})\n",
    "plt.ylabel(\"Degree\", fontdict = {'fontsize': 14, 'fontweight': 'bold'})\n",
    "plt.xlabel(\"Year\", fontdict = {'fontsize': 14, 'fontweight': 'bold'})\n",
    "plt.xticks(np.arange(1895,2020,step=11))\n",
    "plt.grid(True)\n",
    "\n",
    "x_axis = temp_average.index\n",
    "\n",
    "plt.plot(x_axis, temp_average.mean(axis=1), color='navy')\n",
    "plt.show()"
   ]
  },
  {
   "cell_type": "code",
   "execution_count": null,
   "metadata": {},
   "outputs": [],
   "source": [
    "# Generate the Plot\n",
    "fig = plt.figure(figsize = (20,10))\n",
    "ax1 = fig.add_subplot(1, 1, 1)\n",
    "ax2 = ax1.twinx()\n",
    "\n",
    "ax1.set_title(\"Yearly Sunspots and Temperature Average\",fontdict = {'fontsize': 24, 'fontweight': 'bold'})\n",
    "ax1.set_xlabel(\"Year\", fontdict = {'fontsize': 14, 'fontweight': 'bold'})\n",
    "ax1.set_ylabel(\"Degree\", fontdict = {'fontsize': 14, 'fontweight': 'bold'})\n",
    "ax2.set_ylabel(\"Sunspot Activity\", fontdict = {'fontsize': 14, 'fontweight': 'bold'}, color = \"red\")\n",
    "\n",
    "x_axis = sunspot_yearly.index\n",
    "\n",
    "ax1.plot(x_axis, temp_average.mean(axis=1), color='navy')\n",
    "ax2.scatter(x_axis, sunspot_yearly_mean_total, color='red', edgecolors='black', s=(sunspot_yearly_mean_total/2+15), alpha=.55)\n",
    "\n",
    "ax1.set_xticks(np.arange(1895,2020,step=11))\n",
    "plt.grid(True)\n",
    "plt.show()"
   ]
  },
  {
   "cell_type": "code",
   "execution_count": null,
   "metadata": {},
   "outputs": [],
   "source": [
    "# Generate the Plot\n",
    "fig = plt.figure(figsize = (20,10))\n",
    "ax1 = fig.add_subplot(1, 1, 1)\n",
    "ax2 = ax1.twinx()\n",
    "\n",
    "ax1.set_title(\"Yearly Sunspots and Temperature Maximum Average\",fontdict = {'fontsize': 24, 'fontweight': 'bold'})\n",
    "ax1.set_xlabel(\"Year\", fontdict = {'fontsize': 14, 'fontweight': 'bold'})\n",
    "ax1.set_ylabel(\"Degree\", fontdict = {'fontsize': 14, 'fontweight': 'bold'})\n",
    "ax2.set_ylabel(\"Sunspot Activity\", fontdict = {'fontsize': 14, 'fontweight': 'bold'}, color = \"red\")\n",
    "\n",
    "x_axis = temp_average.index\n",
    "temp_maximum_mean = temp_maximum.mean(axis=1)\n",
    "\n",
    "ax1.plot(x_axis, temp_maximum.mean(axis=1), color='navy')\n",
    "ax2.scatter(x_axis, sunspot_yearly_mean_total, color='red', edgecolors='black', s=(sunspot_yearly_mean_total/2+15), alpha=.55)\n",
    "\n",
    "ax1.set_xticks(np.arange(1895,2020,step=11))\n",
    "plt.grid(True)\n",
    "plt.show()"
   ]
  },
  {
   "cell_type": "code",
   "execution_count": null,
   "metadata": {},
   "outputs": [],
   "source": [
    "temp_maximum.mean(axis=1).head(15)"
   ]
  },
  {
   "cell_type": "code",
   "execution_count": null,
   "metadata": {},
   "outputs": [],
   "source": [
    "temp_average.mean().head(35)"
   ]
  },
  {
   "cell_type": "code",
   "execution_count": null,
   "metadata": {},
   "outputs": [],
   "source": [
    "temp_average"
   ]
  },
  {
   "cell_type": "code",
   "execution_count": null,
   "metadata": {},
   "outputs": [],
   "source": [
    "sunspot_monthly = sunspot_monthly.reset_index()\n",
    "#sunspot_monthly[\"Month\"] = sunspot_monthly[\"Month\"].apply(solis.vert_month_num)\n",
    "sunspot_monthly.head()\n"
   ]
  },
  {
   "cell_type": "code",
   "execution_count": null,
   "metadata": {},
   "outputs": [],
   "source": [
    "sunspot_monthly_reg = sunspot_monthly[[\"Year\",\"Month\",\"Monthly Mean Total\"]]\n",
    "sunspot_monthly_reg.head()"
   ]
  },
  {
   "cell_type": "code",
   "execution_count": null,
   "metadata": {},
   "outputs": [],
   "source": [
    "sunspot_monthly_reg.head()\n",
    "sunspot_monthly_reg.dtypes\n",
    "sunspot_monthly_reg.columns"
   ]
  },
  {
   "cell_type": "code",
   "execution_count": null,
   "metadata": {},
   "outputs": [],
   "source": [
    "sm = pd.DataFrame(sunspot_monthly_reg.groupby(['Year', 'Month']).mean())\n",
    "sm.head(15)"
   ]
  },
  {
   "cell_type": "code",
   "execution_count": null,
   "metadata": {},
   "outputs": [],
   "source": [
    "sm = sm.unstack(level = 1)\n",
    "sm.head(15)"
   ]
  },
  {
   "cell_type": "code",
   "execution_count": null,
   "metadata": {},
   "outputs": [],
   "source": [
    "sm.columns"
   ]
  },
  {
   "cell_type": "code",
   "execution_count": null,
   "metadata": {},
   "outputs": [],
   "source": [
    "sm.rename(level=1, columns=lambda x: solis.vert_month_num(x), inplace=True)"
   ]
  },
  {
   "cell_type": "code",
   "execution_count": null,
   "metadata": {},
   "outputs": [],
   "source": [
    "sm.columns"
   ]
  },
  {
   "cell_type": "code",
   "execution_count": null,
   "metadata": {},
   "outputs": [],
   "source": [
    "sm.head()"
   ]
  },
  {
   "cell_type": "code",
   "execution_count": null,
   "metadata": {},
   "outputs": [],
   "source": [
    "sm_df = sm[['Jan', 'Feb', 'March', 'April', 'May', 'June', 'July', 'Aug', 'Sept', 'Oct', 'Nov', 'Dec']]"
   ]
  },
  {
   "cell_type": "code",
   "execution_count": null,
   "metadata": {},
   "outputs": [],
   "source": [
    "sm_df.head(35)"
   ]
  },
  {
   "cell_type": "code",
   "execution_count": null,
   "metadata": {},
   "outputs": [],
   "source": [
    "temp_average.mean(axis=1).head(75)"
   ]
  },
  {
   "cell_type": "code",
   "execution_count": null,
   "metadata": {},
   "outputs": [],
   "source": [
    "temp_average.head(10)"
   ]
  },
  {
   "cell_type": "code",
   "execution_count": null,
   "metadata": {},
   "outputs": [],
   "source": [
    "#\n",
    "\n",
    "x = temp_average.mean(axis=1).head(75)\n",
    "y = sm.mean(axis=1).head(75)\n",
    "\n",
    "gradient,intercept,r_value,p_value,std_err=stats.linregress(x,y)\n",
    "r_sqrd = r_value**2\n",
    "\n",
    "print(\"Gradient and intercept: {},{}\".format(gradient,intercept))\n",
    "print(\"R-squared {}\".format(r_sqrd))\n",
    "print(\"p-value {}\".format(p_value))\n",
    "print(\"std err {}\".format(std_err))\n"
   ]
  },
  {
   "cell_type": "code",
   "execution_count": null,
   "metadata": {},
   "outputs": [],
   "source": [
    "(slope, intercept, _, _, _) = stats.linregress(x, y)\n",
    "fit = slope * x + intercept\n",
    "\n",
    "# Plot data\n",
    "fig, ax = plt.subplots()\n",
    "\n",
    "#fig.suptitle(\"Fake Banana Data!\", fontsize=16, fontweight=\"bold\")\n",
    "#ax.set_xlim(0, 2000)\n",
    "#ax.set_ylim(0, 2000)\n",
    "\n",
    "#ax.set_xlabel(\"Fake Banana Ages (in days)\")\n",
    "#ax.set_ylabel(\"Fake Banana Weights (in Hundres of Kilograms)\")\n",
    "\n",
    "ax.plot(x, y, linewidth=0, marker='o')\n",
    "ax.plot(x, fit, 'b--')\n",
    "\n",
    "plt.show()"
   ]
  },
  {
   "cell_type": "code",
   "execution_count": null,
   "metadata": {},
   "outputs": [],
   "source": []
  }
 ],
 "metadata": {
  "kernelspec": {
   "display_name": "Python 3",
   "language": "python",
   "name": "python3"
  },
  "language_info": {
   "codemirror_mode": {
    "name": "ipython",
    "version": 3
   },
   "file_extension": ".py",
   "mimetype": "text/x-python",
   "name": "python",
   "nbconvert_exporter": "python",
   "pygments_lexer": "ipython3",
   "version": "3.6.5"
  }
 },
 "nbformat": 4,
 "nbformat_minor": 2
}
